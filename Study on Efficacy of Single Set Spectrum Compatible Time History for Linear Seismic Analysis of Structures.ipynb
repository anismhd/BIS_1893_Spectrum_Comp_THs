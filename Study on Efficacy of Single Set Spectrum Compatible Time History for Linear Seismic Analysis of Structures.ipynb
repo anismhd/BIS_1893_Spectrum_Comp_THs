{
 "cells": [
  {
   "cell_type": "markdown",
   "id": "98658630-7cf8-4c0a-99f3-0669aa00d17e",
   "metadata": {},
   "source": [
    "Study by : Anis M.V., Bharti Banshiwal, A.D. Roshan, \n",
    "\n",
    "# Objective\n",
    "The latest draft version of BIS 1893, Sect 7.6.2 (b), specifies that alteast three sets of ground motions hall be used in __Linear__ response history analysis. AERB had commented on the earlier specification of minmum seven time history and arguid tha for _Linear__ response history analysis, which are often used in generation of input of sub-system design (seismic anchor movement, floor response spectr) single time history or single set of time hostory is sufficient for this purpose. A example problem of linear analysis using 30 recorded ground motion and single spectrum compatible time history in one diection was also presented to committee. However, there was an apprehension that, multiople time hostory requirement is more prudent in the case of simultanopus analysis of lateral direction (X and Y) and the above excercice may not capture this phenomena.\n",
    "\n",
    "The objective of the study to demonstrate address the above apprension on efficacy of single set of spectrum comaptible history in adequately capturing response of structure while earthquake has occured in both direction simulatniously.\n",
    "\n"
   ]
  },
  {
   "cell_type": "code",
   "execution_count": null,
   "id": "1974fa18-f299-4e4d-9e00-d75d1cb92cee",
   "metadata": {},
   "outputs": [],
   "source": []
  }
 ],
 "metadata": {
  "kernelspec": {
   "display_name": "Python 3 (ipykernel)",
   "language": "python",
   "name": "python3"
  },
  "language_info": {
   "codemirror_mode": {
    "name": "ipython",
    "version": 3
   },
   "file_extension": ".py",
   "mimetype": "text/x-python",
   "name": "python",
   "nbconvert_exporter": "python",
   "pygments_lexer": "ipython3",
   "version": "3.12.3"
  }
 },
 "nbformat": 4,
 "nbformat_minor": 5
}
