{
 "cells": [
  {
   "cell_type": "code",
   "execution_count": 1,
   "metadata": {},
   "outputs": [],
   "source": [
    "import numpy as np"
   ]
  },
  {
   "cell_type": "code",
   "execution_count": 2,
   "metadata": {},
   "outputs": [],
   "source": [
    "import numpy as np\n",
    "import pandas as pd\n",
    "import matplotlib.pyplot as plt\n",
    "import glob\n",
    "import pyrotd"
   ]
  },
  {
   "cell_type": "code",
   "execution_count": 3,
   "metadata": {},
   "outputs": [],
   "source": [
    "THs = pd.read_csv('motion_suit.csv', header=None)"
   ]
  },
  {
   "cell_type": "code",
   "execution_count": 4,
   "metadata": {},
   "outputs": [],
   "source": [
    "def read_peer_record(file):\n",
    "    with open(file) as f:\n",
    "        f.readline()\n",
    "        f.readline()\n",
    "        f.readline()\n",
    "        dt = np.float(f.readline().split(',')[1].split('=')[1][:9])\n",
    "        data = []\n",
    "        for line in f:\n",
    "            for val in line.strip().split():\n",
    "                data.append(float(val))\n",
    "        return dt , np.array(data)"
   ]
  },
  {
   "cell_type": "code",
   "execution_count": 5,
   "metadata": {},
   "outputs": [],
   "source": [
    "template = open('NewBirectionalAnalysis/template.inp','r').readlines()"
   ]
  },
  {
   "cell_type": "code",
   "execution_count": 6,
   "metadata": {},
   "outputs": [],
   "source": [
    "template_str = ''\n",
    "for line in template:\n",
    "    template_str = template_str + line"
   ]
  },
  {
   "cell_type": "code",
   "execution_count": 7,
   "metadata": {},
   "outputs": [
    {
     "name": "stdout",
     "output_type": "stream",
     "text": [
      "RSN164_IMPVALL.H_H-CPE147.AT2 100.0\n",
      "RSN286_ITALY_A-BIS000.AT2 344.82758620689657\n",
      "RSN289_ITALY_A-CTR000.AT2 416.6666666666667\n",
      "RSN313_CORINTH_COR--L.AT2 100.0\n",
      "RSN755_LOMAP_CYC195.AT2 200.0\n",
      "RSN827_CAPEMEND_FOR000.AT2 50.0\n",
      "RSN864_LANDERS_JOS000.AT2 50.0\n",
      "RSN1083_NORTHR_GLE170.AT2 100.0\n",
      "RSN1614_DUZCE_1061-N.AT2 100.0\n",
      "RSN1616_DUZCE_362-N.AT2 100.0\n",
      "RSN1633_MANJIL_ABBAR--L.AT2 50.0\n",
      "RSN3750_CAPEMEND_LFS270.AT2 200.0\n",
      "RSN3757_LANDERS_NPF090.AT2 200.0\n",
      "RSN4013_SANSIMEO_36258021.AT2 200.0\n",
      "RSN4841_CHUETSU_65004NS.AT2 100.0\n",
      "RSN4843_CHUETSU_65006NS.AT2 100.0\n",
      "RSN4844_CHUETSU_65007NS.AT2 100.0\n",
      "RSN4848_CHUETSU_65011NS.AT2 100.0\n",
      "RSN4850_CHUETSU_65013NS.AT2 100.0\n",
      "RSN4872_CHUETSU_65053NS.AT2 100.0\n",
      "RSN4882_CHUETSU_65321NS.AT2 100.0\n",
      "RSN5270_CHUETSU_NIG024NS.AT2 100.0\n",
      "RSN5274_CHUETSU_NIG028NS.AT2 100.0\n",
      "RSN5284_CHUETSU_NIGH11NS.AT2 200.0\n",
      "RSN5775_IWATE_54009NS.AT2 100.0\n",
      "RSN5776_IWATE_54010NS.AT2 100.0\n",
      "RSN5783_IWATE_54026NS.AT2 100.0\n",
      "RSN5800_IWATE_55441NS.AT2 100.0\n",
      "RSN5806_IWATE_55461NS.AT2 100.0\n",
      "RSN5818_IWATE_48A61NS.AT2 100.0\n"
     ]
    }
   ],
   "source": [
    "time_histories = {}\n",
    "for i,th in THs.iterrows():\n",
    "    dt, data = read_peer_record('PEERNGARecords_Unscaled'+ '/' + th[0].split('\\\\')[-1])\n",
    "    time_histories[i] = {'file':th[0].split('\\\\')[-1], 'scale':th[1], 'time_history':data, 'dt':dt}\n",
    "    print(th[0].split('\\\\')[-1],1/dt)"
   ]
  },
  {
   "cell_type": "code",
   "execution_count": 8,
   "metadata": {},
   "outputs": [],
   "source": [
    "PAIR = np.zeros([30,2], dtype=int)\n",
    "PAIR[:,0] = np.arange(0,30)\n",
    "PAIR[:,1] = np.arange(29,-1,-1)"
   ]
  },
  {
   "cell_type": "code",
   "execution_count": 9,
   "metadata": {},
   "outputs": [
    {
     "ename": "TypeError",
     "evalue": "write() takes exactly one argument (8 given)",
     "output_type": "error",
     "traceback": [
      "\u001b[0;31m---------------------------------------------------------------------------\u001b[0m",
      "\u001b[0;31mTypeError\u001b[0m                                 Traceback (most recent call last)",
      "\u001b[0;32m<ipython-input-9-4e044372ccb8>\u001b[0m in \u001b[0;36m<module>\u001b[0;34m()\u001b[0m\n\u001b[1;32m     24\u001b[0m         \u001b[0mDT\u001b[0m \u001b[0;34m=\u001b[0m \u001b[0mmin\u001b[0m\u001b[0;34m(\u001b[0m\u001b[0mtime_histories\u001b[0m\u001b[0;34m[\u001b[0m\u001b[0mpp\u001b[0m\u001b[0;34m[\u001b[0m\u001b[0;36m0\u001b[0m\u001b[0;34m]\u001b[0m\u001b[0;34m]\u001b[0m\u001b[0;34m[\u001b[0m\u001b[0;34m'dt'\u001b[0m\u001b[0;34m]\u001b[0m\u001b[0;34m,\u001b[0m\u001b[0mtime_histories\u001b[0m\u001b[0;34m[\u001b[0m\u001b[0mpp\u001b[0m\u001b[0;34m[\u001b[0m\u001b[0;36m1\u001b[0m\u001b[0;34m]\u001b[0m\u001b[0;34m]\u001b[0m\u001b[0;34m[\u001b[0m\u001b[0;34m'dt'\u001b[0m\u001b[0;34m]\u001b[0m\u001b[0;34m)\u001b[0m\u001b[0;34m\u001b[0m\u001b[0;34m\u001b[0m\u001b[0m\n\u001b[1;32m     25\u001b[0m         \u001b[0mDUR\u001b[0m \u001b[0;34m=\u001b[0m \u001b[0mmax\u001b[0m\u001b[0;34m(\u001b[0m\u001b[0mtime_histories\u001b[0m\u001b[0;34m[\u001b[0m\u001b[0mpp\u001b[0m\u001b[0;34m[\u001b[0m\u001b[0;36m0\u001b[0m\u001b[0;34m]\u001b[0m\u001b[0;34m]\u001b[0m\u001b[0;34m[\u001b[0m\u001b[0;34m'dt'\u001b[0m\u001b[0;34m]\u001b[0m\u001b[0;34m*\u001b[0m\u001b[0mlen\u001b[0m\u001b[0;34m(\u001b[0m\u001b[0mtime_histories\u001b[0m\u001b[0;34m[\u001b[0m\u001b[0mpp\u001b[0m\u001b[0;34m[\u001b[0m\u001b[0;36m1\u001b[0m\u001b[0;34m]\u001b[0m\u001b[0;34m]\u001b[0m\u001b[0;34m[\u001b[0m\u001b[0;34m'time_history'\u001b[0m\u001b[0;34m]\u001b[0m\u001b[0;34m)\u001b[0m\u001b[0;34m,\u001b[0m                  \u001b[0mtime_histories\u001b[0m\u001b[0;34m[\u001b[0m\u001b[0mpp\u001b[0m\u001b[0;34m[\u001b[0m\u001b[0;36m1\u001b[0m\u001b[0;34m]\u001b[0m\u001b[0;34m]\u001b[0m\u001b[0;34m[\u001b[0m\u001b[0;34m'dt'\u001b[0m\u001b[0;34m]\u001b[0m\u001b[0;34m*\u001b[0m\u001b[0mlen\u001b[0m\u001b[0;34m(\u001b[0m\u001b[0mtime_histories\u001b[0m\u001b[0;34m[\u001b[0m\u001b[0mpp\u001b[0m\u001b[0;34m[\u001b[0m\u001b[0;36m1\u001b[0m\u001b[0;34m]\u001b[0m\u001b[0;34m]\u001b[0m\u001b[0;34m[\u001b[0m\u001b[0;34m'time_history'\u001b[0m\u001b[0;34m]\u001b[0m\u001b[0;34m)\u001b[0m\u001b[0;34m)\u001b[0m\u001b[0;34m\u001b[0m\u001b[0;34m\u001b[0m\u001b[0m\n\u001b[0;32m---> 26\u001b[0;31m         \u001b[0mf\u001b[0m\u001b[0;34m.\u001b[0m\u001b[0mwrite\u001b[0m\u001b[0;34m(\u001b[0m\u001b[0mfile1\u001b[0m\u001b[0;34m.\u001b[0m\u001b[0msplit\u001b[0m\u001b[0;34m(\u001b[0m\u001b[0;34m'_'\u001b[0m\u001b[0;34m)\u001b[0m\u001b[0;34m[\u001b[0m\u001b[0;36m0\u001b[0m\u001b[0;34m]\u001b[0m\u001b[0;34m,\u001b[0m\u001b[0mth_str1\u001b[0m\u001b[0;34m[\u001b[0m\u001b[0;36m1\u001b[0m\u001b[0;34m:\u001b[0m\u001b[0;34m-\u001b[0m\u001b[0;36m1\u001b[0m\u001b[0;34m]\u001b[0m\u001b[0;34m,\u001b[0m                \u001b[0mfile2\u001b[0m\u001b[0;34m.\u001b[0m\u001b[0msplit\u001b[0m\u001b[0;34m(\u001b[0m\u001b[0;34m'_'\u001b[0m\u001b[0;34m)\u001b[0m\u001b[0;34m[\u001b[0m\u001b[0;36m0\u001b[0m\u001b[0;34m]\u001b[0m\u001b[0;34m,\u001b[0m\u001b[0mth_str2\u001b[0m\u001b[0;34m[\u001b[0m\u001b[0;36m1\u001b[0m\u001b[0;34m:\u001b[0m\u001b[0;34m-\u001b[0m\u001b[0;36m1\u001b[0m\u001b[0;34m]\u001b[0m\u001b[0;34m,\u001b[0m                \u001b[0mDT\u001b[0m\u001b[0;34m,\u001b[0m\u001b[0mDUR\u001b[0m\u001b[0;34m+\u001b[0m\u001b[0mcoda_duration\u001b[0m\u001b[0;34m,\u001b[0m                \u001b[0mfile1\u001b[0m\u001b[0;34m.\u001b[0m\u001b[0msplit\u001b[0m\u001b[0;34m(\u001b[0m\u001b[0;34m'_'\u001b[0m\u001b[0;34m)\u001b[0m\u001b[0;34m[\u001b[0m\u001b[0;36m0\u001b[0m\u001b[0;34m]\u001b[0m\u001b[0;34m,\u001b[0m \u001b[0mfile2\u001b[0m\u001b[0;34m.\u001b[0m\u001b[0msplit\u001b[0m\u001b[0;34m(\u001b[0m\u001b[0;34m'_'\u001b[0m\u001b[0;34m)\u001b[0m\u001b[0;34m[\u001b[0m\u001b[0;36m0\u001b[0m\u001b[0;34m]\u001b[0m\u001b[0;34m)\u001b[0m\u001b[0;34m\u001b[0m\u001b[0;34m\u001b[0m\u001b[0m\n\u001b[0m\u001b[1;32m     27\u001b[0m \u001b[0mbat_file\u001b[0m\u001b[0;34m.\u001b[0m\u001b[0mclose\u001b[0m\u001b[0;34m(\u001b[0m\u001b[0;34m)\u001b[0m\u001b[0;34m\u001b[0m\u001b[0;34m\u001b[0m\u001b[0m\n",
      "\u001b[0;31mTypeError\u001b[0m: write() takes exactly one argument (8 given)"
     ]
    }
   ],
   "source": [
    "coda_duration = 10 #second\n",
    "cpu = 10\n",
    "batfile = 'NewBirectionalAnalysis/run.bat'\n",
    "subm_fmt = 'abq2023 input={0:s}.inp job={0:s} cpus={1:d} mp_mode=threads\\n'\n",
    "bat_file = open(batfile,'w')\n",
    "for pp in PAIR:\n",
    "    file1 = time_histories[pp[0]]['file']\n",
    "    file2 = time_histories[pp[1]]['file']\n",
    "    inp_fname = 'NewBirectionalAnalysis/{0:s}_{1:s}.inp'.format(\\\n",
    "            file1.split('_')[0],file2.split('_')[0])\n",
    "    bat_file.write(subm_fmt.format(inp_fname.split('/')[-1][:-4],cpu))\n",
    "    with open(inp_fname,'w') as f:\n",
    "        th_str1 = ''\n",
    "        for j,dd in enumerate(time_histories[pp[0]]['time_history']):\n",
    "            if (j%4 == 0):\n",
    "                th_str1 = th_str1 + '\\n{0:15.8f},{1:15.8f}'.format(j*time_histories[pp[0]]['dt'],dd*time_histories[pp[0]]['scale'])\n",
    "            else:\n",
    "                th_str1 = th_str1 + ',{0:15.8f},{1:15.8f}'.format(j*time_histories[pp[0]]['dt'],dd*time_histories[pp[0]]['scale'])\n",
    "        th_str2 = ''\n",
    "        for j,dd in enumerate(time_histories[pp[0]]['time_history']):\n",
    "            if (j%4 == 0):\n",
    "                th_str2 = th_str2 + '\\n{0:15.8f},{1:15.8f}'.format(j*time_histories[pp[1]]['dt'],dd*time_histories[pp[1]]['scale'])\n",
    "            else:\n",
    "                th_str2 = th_str2 + ',{0:15.8f},{1:15.8f}'.format(j*time_histories[pp[1]]['dt'],dd*time_histories[pp[1]]['scale'])\n",
    "        DT = min(time_histories[pp[0]]['dt'],time_histories[pp[1]]['dt'])\n",
    "        DUR = max(time_histories[pp[0]]['dt']*len(time_histories[pp[1]]['time_history']),\\\n",
    "                  time_histories[pp[1]]['dt']*len(time_histories[pp[1]]['time_history']))\n",
    "        f.write(template_str.format(file1.split('_')[0],th_str1[1:-1],\\\n",
    "                file2.split('_')[0],th_str2[1:-1],\\\n",
    "                DT,DUR+coda_duration,\\\n",
    "                file1.split('_')[0], file2.split('_')[0]))\n",
    "bat_file.close()"
   ]
  },
  {
   "cell_type": "code",
   "execution_count": null,
   "metadata": {},
   "outputs": [],
   "source": [
    "time_histories[pp[0]]"
   ]
  },
  {
   "cell_type": "code",
   "execution_count": null,
   "metadata": {},
   "outputs": [],
   "source": []
  }
 ],
 "metadata": {
  "kernelspec": {
   "display_name": "Python 3 (ipykernel)",
   "language": "python",
   "name": "python3"
  },
  "language_info": {
   "codemirror_mode": {
    "name": "ipython",
    "version": 3
   },
   "file_extension": ".py",
   "mimetype": "text/x-python",
   "name": "python",
   "nbconvert_exporter": "python",
   "pygments_lexer": "ipython3",
   "version": "3.12.3"
  }
 },
 "nbformat": 4,
 "nbformat_minor": 4
}
